{
 "cells": [
  {
   "cell_type": "code",
   "execution_count": 11,
   "id": "d7fb4caf",
   "metadata": {},
   "outputs": [],
   "source": [
    "#Importing Libraries\n",
    "# Pandas,Numpy, Matplotlib, Seaborn, Json, request\n",
    "import pandas as pd\n",
    "import numpy as np\n",
    "import matplotlib.pyplot as plt\n",
    "import seaborn as sns\n",
    "%matplotlib inline\n",
    "import json\n",
    "import requests"
   ]
  },
  {
   "cell_type": "code",
   "execution_count": 7,
   "id": "d534e93a",
   "metadata": {
    "scrolled": true
   },
   "outputs": [
    {
     "name": "stdout",
     "output_type": "stream",
     "text": [
      "<class 'pandas.core.frame.DataFrame'>\n",
      "RangeIndex: 999 entries, 0 to 998\n",
      "Data columns (total 20 columns):\n",
      " #   Column                Non-Null Count  Dtype  \n",
      "---  ------                --------------  -----  \n",
      " 0   budget                999 non-null    int64  \n",
      " 1   genres                999 non-null    object \n",
      " 2   homepage              524 non-null    object \n",
      " 3   id                    999 non-null    int64  \n",
      " 4   keywords              999 non-null    object \n",
      " 5   original_language     999 non-null    object \n",
      " 6   original_title        999 non-null    object \n",
      " 7   overview              999 non-null    object \n",
      " 8   popularity            999 non-null    float64\n",
      " 9   production_companies  999 non-null    object \n",
      " 10  production_countries  999 non-null    object \n",
      " 11  release_date          999 non-null    object \n",
      " 12  revenue               999 non-null    int64  \n",
      " 13  runtime               999 non-null    int64  \n",
      " 14  spoken_languages      999 non-null    object \n",
      " 15  status                999 non-null    object \n",
      " 16  tagline               965 non-null    object \n",
      " 17  title                 999 non-null    object \n",
      " 18  vote_average          999 non-null    float64\n",
      " 19  vote_count            999 non-null    int64  \n",
      "dtypes: float64(2), int64(5), object(13)\n",
      "memory usage: 156.2+ KB\n",
      "<class 'pandas.core.frame.DataFrame'>\n",
      "RangeIndex: 4803 entries, 0 to 4802\n",
      "Data columns (total 4 columns):\n",
      " #   Column    Non-Null Count  Dtype \n",
      "---  ------    --------------  ----- \n",
      " 0   movie_id  4803 non-null   int64 \n",
      " 1   title     4803 non-null   object\n",
      " 2   cast      4803 non-null   object\n",
      " 3   crew      4803 non-null   object\n",
      "dtypes: int64(1), object(3)\n",
      "memory usage: 150.2+ KB\n"
     ]
    }
   ],
   "source": [
    "#Importing CSV files\n",
    "df_movies=pd.read_csv('tmdb_5000_movies.csv')\n",
    "df_credits=pd.read_csv('tmdb_5000_credits.csv')\n",
    "\n",
    "\n",
    "df_movies.info()\n",
    "df_credits.info()"
   ]
  },
  {
   "cell_type": "code",
   "execution_count": null,
   "id": "5e7da9bc",
   "metadata": {},
   "outputs": [],
   "source": []
  },
  {
   "cell_type": "code",
   "execution_count": 13,
   "id": "86921e84",
   "metadata": {},
   "outputs": [],
   "source": []
  },
  {
   "cell_type": "code",
   "execution_count": 23,
   "id": "19083f47",
   "metadata": {},
   "outputs": [
    {
     "name": "stdout",
     "output_type": "stream",
     "text": [
      "http://image.tmdb.org/t/p/w500/gC3tW9a45RGOzzSh6wv91pFnmFr.jpg\n"
     ]
    }
   ],
   "source": []
  },
  {
   "cell_type": "code",
   "execution_count": 18,
   "id": "6f8032b9",
   "metadata": {},
   "outputs": [],
   "source": [
    "json_response = response.json()"
   ]
  },
  {
   "cell_type": "code",
   "execution_count": 19,
   "id": "0af8396c",
   "metadata": {},
   "outputs": [
    {
     "data": {
      "text/plain": [
       "'/gC3tW9a45RGOzzSh6wv91pFnmFr.jpg'"
      ]
     },
     "execution_count": 19,
     "metadata": {},
     "output_type": "execute_result"
    }
   ],
   "source": [
    "json_response['belongs_to_collection']['poster_path']"
   ]
  },
  {
   "cell_type": "code",
   "execution_count": 16,
   "id": "85860f3a",
   "metadata": {
    "scrolled": true
   },
   "outputs": [
    {
     "name": "stdout",
     "output_type": "stream",
     "text": [
      "{'adult': False, 'backdrop_path': '/jlQJDD0L5ZojjlS0KYnApdO0n19.jpg', 'belongs_to_collection': {'id': 87096, 'name': 'Avatar Collection', 'poster_path': '/gC3tW9a45RGOzzSh6wv91pFnmFr.jpg', 'backdrop_path': '/syGPZuzcHBBHMLiNDN0x0Tms4Fk.jpg'}, 'budget': 237000000, 'genres': [{'id': 28, 'name': 'Action'}, {'id': 12, 'name': 'Adventure'}, {'id': 14, 'name': 'Fantasy'}, {'id': 878, 'name': 'Science Fiction'}], 'homepage': 'https://www.avatar.com/movies/avatar', 'id': 19995, 'imdb_id': 'tt0499549', 'original_language': 'en', 'original_title': 'Avatar', 'overview': 'In the 22nd century, a paraplegic Marine is dispatched to the moon Pandora on a unique mission, but becomes torn between following orders and protecting an alien civilization.', 'popularity': 284.168, 'poster_path': '/jRXYjXNq0Cs2TcJjLkki24MLp7u.jpg', 'production_companies': [{'id': 444, 'logo_path': '/42UPdZl6B2cFXgNUASR8hSt9mpS.png', 'name': 'Dune Entertainment', 'origin_country': 'US'}, {'id': 574, 'logo_path': '/iB6GjNVHs5hOqcEYt2rcjBqIjki.png', 'name': 'Lightstorm Entertainment', 'origin_country': 'US'}, {'id': 25, 'logo_path': '/qZCc1lty5FzX30aOCVRBLzaVmcp.png', 'name': '20th Century Fox', 'origin_country': 'US'}, {'id': 290, 'logo_path': '/Q8mw2AOQQc8Qg0uNwLWq86DVZv.png', 'name': 'Ingenious Media', 'origin_country': 'GB'}], 'production_countries': [{'iso_3166_1': 'US', 'name': 'United States of America'}, {'iso_3166_1': 'GB', 'name': 'United Kingdom'}], 'release_date': '2009-12-10', 'revenue': 2847246203, 'runtime': 162, 'spoken_languages': [{'english_name': 'English', 'iso_639_1': 'en', 'name': 'English'}, {'english_name': 'Spanish', 'iso_639_1': 'es', 'name': 'Español'}], 'status': 'Released', 'tagline': 'Enter the World of Pandora.', 'title': 'Avatar', 'video': False, 'vote_average': 7.5, 'vote_count': 24988}\n"
     ]
    }
   ],
   "source": [
    "print(response.json())"
   ]
  },
  {
   "cell_type": "code",
   "execution_count": 46,
   "id": "0019a432",
   "metadata": {},
   "outputs": [
    {
     "name": "stdout",
     "output_type": "stream",
     "text": [
      "https://api.themoviedb.org/3/movie/505/images?api_key=aefefef46369fdf0d6421312a28a9d87\n",
      "{'backdrops': [{'aspect_ratio': 1.778, 'height': 1080, 'iso_639_1': None, 'file_path': '/v7baGyne7CsLxnM2maMwIxKZdVF.jpg', 'vote_average': 5.312, 'vote_count': 1, 'width': 1920}, {'aspect_ratio': 1.778, 'height': 720, 'iso_639_1': None, 'file_path': '/cHGRVsYo1MgX0zKl3ZzYCQ0xxOk.jpg', 'vote_average': 0.0, 'vote_count': 0, 'width': 1280}, {'aspect_ratio': 1.778, 'height': 720, 'iso_639_1': None, 'file_path': '/3IgPqRH7Tun18WUyRG9pSZMoQws.jpg', 'vote_average': 0.0, 'vote_count': 0, 'width': 1280}], 'id': 505, 'logos': [], 'posters': [{'aspect_ratio': 0.667, 'height': 975, 'iso_639_1': 'en', 'file_path': '/hdEIkpL17rvfZH0l34FJ8H9LAa.jpg', 'vote_average': 5.318, 'vote_count': 3, 'width': 650}, {'aspect_ratio': 0.667, 'height': 750, 'iso_639_1': 'it', 'file_path': '/96XArHpUgN9jbr3LybIyRQs2MD6.jpg', 'vote_average': 5.312, 'vote_count': 1, 'width': 500}, {'aspect_ratio': 0.667, 'height': 1500, 'iso_639_1': 'ru', 'file_path': '/f8KuYHR0HaIKPAGo3HAURXlQjzc.jpg', 'vote_average': 5.312, 'vote_count': 1, 'width': 1000}, {'aspect_ratio': 0.667, 'height': 1500, 'iso_639_1': 'en', 'file_path': '/delteT6vYAGIKiGrRatxQJI1U5a.jpg', 'vote_average': 5.312, 'vote_count': 1, 'width': 1000}, {'aspect_ratio': 0.667, 'height': 750, 'iso_639_1': 'it', 'file_path': '/bOzVsCqk3L9r9GHvXAV4BAA0MKa.jpg', 'vote_average': 0.0, 'vote_count': 0, 'width': 500}, {'aspect_ratio': 0.667, 'height': 1815, 'iso_639_1': 'uk', 'file_path': '/8fxCyLVcNabW8tjTWIGtMsIgyS4.jpg', 'vote_average': 0.0, 'vote_count': 0, 'width': 1210}, {'aspect_ratio': 0.667, 'height': 1500, 'iso_639_1': 'de', 'file_path': '/nxgEMfMOFH0FItob9p3ef9Teo3l.jpg', 'vote_average': 0.0, 'vote_count': 0, 'width': 1000}, {'aspect_ratio': 0.667, 'height': 750, 'iso_639_1': 'de', 'file_path': '/blRY2q0xCnaEUFXf6fGYlnYYTer.jpg', 'vote_average': 0.0, 'vote_count': 0, 'width': 500}, {'aspect_ratio': 0.667, 'height': 750, 'iso_639_1': 'de', 'file_path': '/uykzQEP7q2U0niOJjhwjW5FoWcv.jpg', 'vote_average': 0.0, 'vote_count': 0, 'width': 500}, {'aspect_ratio': 0.702, 'height': 2158, 'iso_639_1': 'hu', 'file_path': '/YTuJapjM3c8Hu7q3JVL3NMgSJc.jpg', 'vote_average': 0.0, 'vote_count': 0, 'width': 1514}]}\n"
     ]
    }
   ],
   "source": [
    "    api_url = 'https://api.themoviedb.org/3/movie/505/images?api_key=aefefef46369fdf0d6421312a28a9d87'\n",
    "    print(api_url)\n",
    "    response = requests.get(api_url)\n",
    "    if(response.status_code==200):\n",
    "        json_response = response.json()\n",
    "        print(json_response)\n",
    "        "
   ]
  },
  {
   "cell_type": "code",
   "execution_count": 45,
   "id": "8d343678",
   "metadata": {},
   "outputs": [
    {
     "name": "stdout",
     "output_type": "stream",
     "text": [
      "{\n",
      "    \"adult\": false,\n",
      "    \"backdrop_path\": \"/v7baGyne7CsLxnM2maMwIxKZdVF.jpg\",\n",
      "    \"belongs_to_collection\": null,\n",
      "    \"budget\": 20000000,\n",
      "    \"genres\": [\n",
      "        {\n",
      "            \"id\": 80,\n",
      "            \"name\": \"Crime\"\n",
      "        },\n",
      "        {\n",
      "            \"id\": 18,\n",
      "            \"name\": \"Drama\"\n",
      "        }\n",
      "    ],\n",
      "    \"homepage\": \"\",\n",
      "    \"id\": 505,\n",
      "    \"imdb_id\": \"tt0097626\",\n",
      "    \"original_language\": \"en\",\n",
      "    \"original_title\": \"Johnny Handsome\",\n",
      "    \"overview\": \"A career criminal who has been deformed since birth is given a new face by a kindly doctor and paroled from prison. It appears that he has gone straight, but he is really planning his revenge on the man who killed his mentor and sent him to prison.\",\n",
      "    \"popularity\": 10.968,\n",
      "    \"poster_path\": \"/hdEIkpL17rvfZH0l34FJ8H9LAa.jpg\",\n",
      "    \"production_companies\": [\n",
      "        {\n",
      "            \"id\": 276,\n",
      "            \"logo_path\": null,\n",
      "            \"name\": \"Guber/Peters Company\",\n",
      "            \"origin_country\": \"\"\n",
      "        },\n",
      "        {\n",
      "            \"id\": 277,\n",
      "            \"logo_path\": null,\n",
      "            \"name\": \"Roven Productions\",\n",
      "            \"origin_country\": \"\"\n",
      "        },\n",
      "        {\n",
      "            \"id\": 275,\n",
      "            \"logo_path\": \"/2MxNWlN5b3UXt1OfmznsWEQzFwq.png\",\n",
      "            \"name\": \"Carolco Pictures\",\n",
      "            \"origin_country\": \"US\"\n",
      "        }\n",
      "    ],\n",
      "    \"production_countries\": [\n",
      "        {\n",
      "            \"iso_3166_1\": \"US\",\n",
      "            \"name\": \"United States of America\"\n",
      "        }\n",
      "    ],\n",
      "    \"release_date\": \"1989-09-12\",\n",
      "    \"revenue\": 7237794,\n",
      "    \"runtime\": 94,\n",
      "    \"spoken_languages\": [\n",
      "        {\n",
      "            \"english_name\": \"English\",\n",
      "            \"iso_639_1\": \"en\",\n",
      "            \"name\": \"English\"\n",
      "        }\n",
      "    ],\n",
      "    \"status\": \"Released\",\n",
      "    \"tagline\": \"They changed his looks, his life and his future... but they couldn't change his past .\",\n",
      "    \"title\": \"Johnny Handsome\",\n",
      "    \"video\": false,\n",
      "    \"vote_average\": 6.2,\n",
      "    \"vote_count\": 183\n",
      "}\n"
     ]
    }
   ],
   "source": [
    "dictionary = json.dumps(response.json(), sort_keys = True, indent = 4)\n",
    "print(dictionary)"
   ]
  },
  {
   "cell_type": "code",
   "execution_count": 54,
   "id": "2ddafaaf",
   "metadata": {},
   "outputs": [],
   "source": [
    "#Creating function to get poster from tmdb API\n",
    "\n",
    "def get_movie_poster(movie_id):\n",
    "    \n",
    "    api_url = 'https://api.themoviedb.org/3/movie/'+ str(movie_id) + '?api_key=aefefef46369fdf0d6421312a28a9d87'\n",
    "    print(api_url)\n",
    "    response = requests.get(api_url)\n",
    "    if(response.status_code==200):\n",
    "        json_response = response.json()\n",
    "        poster_path = json_response['poster_path']\n",
    "        poster_full_url = 'http://image.tmdb.org/t/p/w500'+poster_path\n",
    "        #print(poster_full_url)\n",
    "        return poster_full_url\n",
    "    else:\n",
    "        return None\n"
   ]
  },
  {
   "cell_type": "code",
   "execution_count": 58,
   "id": "e20e2a1c",
   "metadata": {},
   "outputs": [
    {
     "name": "stdout",
     "output_type": "stream",
     "text": [
      "https://api.themoviedb.org/3/movie/285?api_key=aefefef46369fdf0d6421312a28a9d87\n",
      "http://image.tmdb.org/t/p/w500/2YMnBRh8F6fDGCCEIPk9Hb0cEyB.jpg\n",
      "--\n",
      "https://api.themoviedb.org/3/movie/206647?api_key=aefefef46369fdf0d6421312a28a9d87\n",
      "http://image.tmdb.org/t/p/w500/zj8ongFhtWNsVlfjOGo8pSr7PQg.jpg\n",
      "--\n",
      "https://api.themoviedb.org/3/movie/49026?api_key=aefefef46369fdf0d6421312a28a9d87\n",
      "http://image.tmdb.org/t/p/w500/85cWkCVftiVs0BVey6pxX8uNmLt.jpg\n",
      "--\n",
      "https://api.themoviedb.org/3/movie/49529?api_key=aefefef46369fdf0d6421312a28a9d87\n",
      "http://image.tmdb.org/t/p/w500/7GSSyUUgUEXm1rhmiPGSRuKoqnK.jpg\n",
      "--\n",
      "https://api.themoviedb.org/3/movie/559?api_key=aefefef46369fdf0d6421312a28a9d87\n",
      "http://image.tmdb.org/t/p/w500/qFmwhVUoUSXjkKRmca5yGDEXBIj.jpg\n",
      "--\n",
      "https://api.themoviedb.org/3/movie/38757?api_key=aefefef46369fdf0d6421312a28a9d87\n",
      "http://image.tmdb.org/t/p/w500/ym7Kst6a4uodryxqbGOxmewF235.jpg\n",
      "--\n",
      "https://api.themoviedb.org/3/movie/99861?api_key=aefefef46369fdf0d6421312a28a9d87\n",
      "http://image.tmdb.org/t/p/w500/4ssDuvEDkSArWEdyBl2X5EHvYKU.jpg\n",
      "--\n",
      "https://api.themoviedb.org/3/movie/767?api_key=aefefef46369fdf0d6421312a28a9d87\n",
      "http://image.tmdb.org/t/p/w500/o2j49x3HYJC2VH689rYxmswtSgS.jpg\n",
      "--\n",
      "https://api.themoviedb.org/3/movie/209112?api_key=aefefef46369fdf0d6421312a28a9d87\n",
      "http://image.tmdb.org/t/p/w500/5UsK3grJvtQrtzEgqNlDljJW96w.jpg\n",
      "--\n",
      "https://api.themoviedb.org/3/movie/1452?api_key=aefefef46369fdf0d6421312a28a9d87\n",
      "http://image.tmdb.org/t/p/w500/385XwTQZDpRX2d3kxtnpiLrjBXw.jpg\n",
      "--\n",
      "https://api.themoviedb.org/3/movie/10764?api_key=aefefef46369fdf0d6421312a28a9d87\n",
      "http://image.tmdb.org/t/p/w500/e3DXXLJHGqMx9yYpXsql1XNljmM.jpg\n",
      "--\n",
      "https://api.themoviedb.org/3/movie/58?api_key=aefefef46369fdf0d6421312a28a9d87\n",
      "http://image.tmdb.org/t/p/w500/uXEqmloGyP7UXAiphJUu2v2pcuE.jpg\n",
      "--\n",
      "https://api.themoviedb.org/3/movie/57201?api_key=aefefef46369fdf0d6421312a28a9d87\n",
      "http://image.tmdb.org/t/p/w500/p3OvQFa5lhbwSAhPygwnlugie1d.jpg\n",
      "--\n"
     ]
    }
   ],
   "source": [
    "for i in (285,206647,49026,49529,559,38757,99861,767,209112,1452,10764,58,57201):\n",
    "    print(get_movie_poster(i))\n",
    "    print(\"--\")"
   ]
  }
 ],
 "metadata": {
  "kernelspec": {
   "display_name": "Python 3 (ipykernel)",
   "language": "python",
   "name": "python3"
  },
  "language_info": {
   "codemirror_mode": {
    "name": "ipython",
    "version": 3
   },
   "file_extension": ".py",
   "mimetype": "text/x-python",
   "name": "python",
   "nbconvert_exporter": "python",
   "pygments_lexer": "ipython3",
   "version": "3.9.7"
  }
 },
 "nbformat": 4,
 "nbformat_minor": 5
}
